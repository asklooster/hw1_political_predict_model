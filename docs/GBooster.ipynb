{
 "cells": [
  {
   "cell_type": "code",
   "execution_count": 1,
   "id": "f2529553-4277-45ad-a466-a38d0725cea4",
   "metadata": {},
   "outputs": [],
   "source": [
    "import numpy as np\n",
    "import pandas as pd\n",
    "import matplotlib.pyplot as plt\n",
    "import seaborn as sns\n",
    "from IPython.display import Image"
   ]
  },
  {
   "cell_type": "code",
   "execution_count": 2,
   "id": "e3d4068a-57b9-47c4-8ffc-7e95819e8f60",
   "metadata": {},
   "outputs": [],
   "source": [
    "%matplotlib inline"
   ]
  },
  {
   "cell_type": "code",
   "execution_count": 3,
   "id": "4900f9f8-290c-440d-a3a1-e910a8bcfa0b",
   "metadata": {},
   "outputs": [],
   "source": [
    "from sklearn.preprocessing import StandardScaler\n",
    "from sklearn.compose import ColumnTransformer\n",
    "from sklearn.pipeline import Pipeline\n",
    "from sklearn.model_selection import train_test_split\n",
    "from sklearn.metrics import confusion_matrix\n",
    "from sklearn.metrics import plot_confusion_matrix\n",
    "\n",
    "# explicitly require this experimental feature\n",
    "from sklearn.experimental import enable_hist_gradient_boosting  # noqa\n",
    "# now you can import normally from ensemble\n",
    "from sklearn.ensemble import HistGradientBoostingClassifier\n",
    "\n",
    "# Need the following to encode our target variable\n",
    "from sklearn.preprocessing import OrdinalEncoder"
   ]
  },
  {
   "cell_type": "code",
   "execution_count": 51,
   "id": "8f1533a6-2689-449c-b69f-9e66c31aee41",
   "metadata": {},
   "outputs": [],
   "source": [
    "tax_df = pd.read_csv('TaxInfo.csv')"
   ]
  },
  {
   "cell_type": "code",
   "execution_count": 10,
   "id": "c31c6908-f9c5-4d58-95bd-f5ef59ee0f52",
   "metadata": {},
   "outputs": [
    {
     "data": {
      "text/html": [
       "<div>\n",
       "<style scoped>\n",
       "    .dataframe tbody tr th:only-of-type {\n",
       "        vertical-align: middle;\n",
       "    }\n",
       "\n",
       "    .dataframe tbody tr th {\n",
       "        vertical-align: top;\n",
       "    }\n",
       "\n",
       "    .dataframe thead th {\n",
       "        text-align: right;\n",
       "    }\n",
       "</style>\n",
       "<table border=\"1\" class=\"dataframe\">\n",
       "  <thead>\n",
       "    <tr style=\"text-align: right;\">\n",
       "      <th></th>\n",
       "      <th>HHI</th>\n",
       "      <th>HHDL</th>\n",
       "      <th>Married</th>\n",
       "      <th>CollegGrads</th>\n",
       "      <th>AHHAge</th>\n",
       "      <th>Cars</th>\n",
       "      <th>Filed_2017</th>\n",
       "      <th>Filed_2016</th>\n",
       "      <th>Filed_2015</th>\n",
       "      <th>PoliticalParty</th>\n",
       "    </tr>\n",
       "  </thead>\n",
       "  <tbody>\n",
       "    <tr>\n",
       "      <th>0</th>\n",
       "      <td>49685</td>\n",
       "      <td>227187</td>\n",
       "      <td>0</td>\n",
       "      <td>0</td>\n",
       "      <td>105</td>\n",
       "      <td>0</td>\n",
       "      <td>1</td>\n",
       "      <td>1</td>\n",
       "      <td>1</td>\n",
       "      <td>Democrat</td>\n",
       "    </tr>\n",
       "    <tr>\n",
       "      <th>1</th>\n",
       "      <td>64756</td>\n",
       "      <td>-507342</td>\n",
       "      <td>2</td>\n",
       "      <td>3</td>\n",
       "      <td>68</td>\n",
       "      <td>3</td>\n",
       "      <td>1</td>\n",
       "      <td>0</td>\n",
       "      <td>0</td>\n",
       "      <td>Independent</td>\n",
       "    </tr>\n",
       "    <tr>\n",
       "      <th>2</th>\n",
       "      <td>115435</td>\n",
       "      <td>521290</td>\n",
       "      <td>1</td>\n",
       "      <td>3</td>\n",
       "      <td>81</td>\n",
       "      <td>2</td>\n",
       "      <td>0</td>\n",
       "      <td>1</td>\n",
       "      <td>0</td>\n",
       "      <td>Republican</td>\n",
       "    </tr>\n",
       "    <tr>\n",
       "      <th>3</th>\n",
       "      <td>99454</td>\n",
       "      <td>251829</td>\n",
       "      <td>2</td>\n",
       "      <td>1</td>\n",
       "      <td>52</td>\n",
       "      <td>4</td>\n",
       "      <td>1</td>\n",
       "      <td>0</td>\n",
       "      <td>0</td>\n",
       "      <td>Republican</td>\n",
       "    </tr>\n",
       "    <tr>\n",
       "      <th>4</th>\n",
       "      <td>157274</td>\n",
       "      <td>-472337</td>\n",
       "      <td>0</td>\n",
       "      <td>1</td>\n",
       "      <td>28</td>\n",
       "      <td>1</td>\n",
       "      <td>1</td>\n",
       "      <td>0</td>\n",
       "      <td>1</td>\n",
       "      <td>Independent</td>\n",
       "    </tr>\n",
       "  </tbody>\n",
       "</table>\n",
       "</div>"
      ],
      "text/plain": [
       "      HHI    HHDL  Married  CollegGrads  AHHAge  Cars  Filed_2017  Filed_2016  \\\n",
       "0   49685  227187        0            0     105     0           1           1   \n",
       "1   64756 -507342        2            3      68     3           1           0   \n",
       "2  115435  521290        1            3      81     2           0           1   \n",
       "3   99454  251829        2            1      52     4           1           0   \n",
       "4  157274 -472337        0            1      28     1           1           0   \n",
       "\n",
       "   Filed_2015 PoliticalParty  \n",
       "0           1       Democrat  \n",
       "1           0    Independent  \n",
       "2           0     Republican  \n",
       "3           0     Republican  \n",
       "4           1    Independent  "
      ]
     },
     "execution_count": 10,
     "metadata": {},
     "output_type": "execute_result"
    }
   ],
   "source": [
    "tax_df.head()"
   ]
  },
  {
   "cell_type": "code",
   "execution_count": 12,
   "id": "4b5bc0a2-5cf1-49a2-9dbc-0e332415a045",
   "metadata": {},
   "outputs": [],
   "source": [
    "tax_df = pd.get_dummies(tax_df, columns=['Married'])"
   ]
  },
  {
   "cell_type": "code",
   "execution_count": 13,
   "id": "8a96e8e7-5c2e-4231-8c5a-9d1f90f64cc9",
   "metadata": {},
   "outputs": [],
   "source": [
    "tax_df.Married_0 = tax_df.Married_0.astype('category')\n",
    "tax_df.Married_1 = tax_df.Married_1.astype('category')\n",
    "tax_df['Filed_2017'] = tax_df['Filed_2017'].astype('category')\n",
    "tax_df['Filed_2016'] = tax_df['Filed_2016'].astype('category')\n",
    "tax_df['Filed_2015'] = tax_df['Filed_2015'].astype('category')\n",
    "tax_df = tax_df.drop(columns=['Married_2'])"
   ]
  },
  {
   "cell_type": "code",
   "execution_count": 52,
   "id": "5ea2b30c-0045-485c-b574-facf24b04433",
   "metadata": {
    "tags": []
   },
   "outputs": [],
   "source": [
    "outcome = 'PoliticalParty'\n",
    "predictors = [c for c in tax_df.columns if c != outcome]\n",
    "\n",
    "X = tax_df[predictors]\n",
    "Y = tax_df[outcome]\n",
    "train_X, valid_X, train_y, valid_y = train_test_split(X, Y, test_size=0.2, random_state=21)\n",
    "\n",
    "#Cat/Num Columns for tax_df\n",
    "categorical_cols = train_X.select_dtypes(include=['category']).columns.tolist()\n",
    "numeric_cols = train_X.select_dtypes(include=['number']).columns.tolist()"
   ]
  },
  {
   "cell_type": "code",
   "execution_count": 53,
   "id": "8ace8ac8-0df6-4aac-8f0d-ca1ec4f23eb2",
   "metadata": {},
   "outputs": [
    {
     "name": "stdout",
     "output_type": "stream",
     "text": [
      "hgbc training score: 1.000\n",
      "Training score: 1.000\n",
      "Test score: 0.363\n"
     ]
    }
   ],
   "source": [
    "numeric_transformer_hgbc = StandardScaler()\n",
    "categorical_transformer_hgbc = OrdinalEncoder(handle_unknown='use_encoded_value', unknown_value=np.nan)\n",
    "target_transformer_hgbc = OrdinalEncoder(handle_unknown='use_encoded_value', unknown_value=np.nan)\n",
    "\n",
    "preprocessor_hgbc = ColumnTransformer(\n",
    "    transformers=[\n",
    "        ('cat', categorical_transformer_hgbc, categorical_cols),\n",
    "        ('num', numeric_transformer_hgbc, numeric_cols)],\n",
    "        remainder='passthrough')\n",
    "\n",
    "# The preprocessor reorders the columns into blocks by type as defined by the transformers. So, now\n",
    "# the categorical cols are the first columns. We need their index numbers to use in the call to the\n",
    "# HistGradientBoostingClassifier() so it knows which cols to treat as categoricals (even though they\n",
    "# have been transformed into meaningless integers.)\n",
    "\n",
    "categorical_cols_idx = [_ for _ in range(len(categorical_cols))]\n",
    "\n",
    "# Append classifier to preprocessing pipeline.\n",
    "clf_hgbc = Pipeline(steps=[('preprocessor', preprocessor_hgbc),\n",
    "                      ('classifier', HistGradientBoostingClassifier(categorical_features=categorical_cols_idx))])\n",
    "\n",
    "# Fit model\n",
    "clf_hgbc.fit(train_X, train_y)\n",
    "print(f\"hgbc training score: {clf_hgbc.score(train_X, train_y):.3f}\")\n",
    "\n",
    "print(f\"Training score: {clf_hgbc.score(train_X, train_y):.3f}\")\n",
    "print(f\"Test score: {clf_hgbc.score(valid_X, valid_y):.3f}\")"
   ]
  },
  {
   "cell_type": "code",
   "execution_count": 42,
   "id": "f859fdc5-285a-4a49-81b5-56383b339248",
   "metadata": {
    "tags": []
   },
   "outputs": [],
   "source": [
    "tax2_df = pd.get_dummies(tax_df, columns=['PoliticalParty'])"
   ]
  },
  {
   "cell_type": "code",
   "execution_count": 54,
   "id": "de0374b5-39d9-4c56-9c18-0a4114f581b8",
   "metadata": {},
   "outputs": [],
   "source": [
    "tax_df.PoliticalParty = tax_df.PoliticalParty.astype('category')"
   ]
  },
  {
   "cell_type": "code",
   "execution_count": 55,
   "id": "6afaf4fe-fd12-423a-8929-1354cc6b9918",
   "metadata": {},
   "outputs": [
    {
     "name": "stdout",
     "output_type": "stream",
     "text": [
      "<class 'pandas.core.frame.DataFrame'>\n",
      "RangeIndex: 1004 entries, 0 to 1003\n",
      "Data columns (total 10 columns):\n",
      " #   Column          Non-Null Count  Dtype   \n",
      "---  ------          --------------  -----   \n",
      " 0   HHI             1004 non-null   int64   \n",
      " 1   HHDL            1004 non-null   int64   \n",
      " 2   Married         1004 non-null   int64   \n",
      " 3   CollegGrads     1004 non-null   int64   \n",
      " 4   AHHAge          1004 non-null   int64   \n",
      " 5   Cars            1004 non-null   int64   \n",
      " 6   Filed_2017      1004 non-null   int64   \n",
      " 7   Filed_2016      1004 non-null   int64   \n",
      " 8   Filed_2015      1004 non-null   int64   \n",
      " 9   PoliticalParty  1004 non-null   category\n",
      "dtypes: category(1), int64(9)\n",
      "memory usage: 71.8 KB\n"
     ]
    }
   ],
   "source": [
    "tax_df.info()"
   ]
  },
  {
   "cell_type": "code",
   "execution_count": 44,
   "id": "6f2b41d1-c8c3-4548-aca7-d8ffec657665",
   "metadata": {},
   "outputs": [],
   "source": [
    "tax_df2 = tax2_df.drop(columns=['PoliticalParty_Independent'])"
   ]
  },
  {
   "cell_type": "code",
   "execution_count": 56,
   "id": "f8a90228-5d40-4246-b2b3-3814b45b63f5",
   "metadata": {},
   "outputs": [],
   "source": [
    "outcome = 'Filed_2015'\n",
    "predictors = [c for c in tax_df.columns if c != outcome]\n",
    "\n",
    "X = tax_df[predictors]\n",
    "Y = tax_df[outcome]\n",
    "train_X, valid_X, train_y, valid_y = train_test_split(X, Y, test_size=0.2, random_state=21)\n",
    "\n",
    "#Cat/Num Columns for tax_df\n",
    "categorical_cols = train_X.select_dtypes(include=['category']).columns.tolist()\n",
    "numeric_cols = train_X.select_dtypes(include=['number']).columns.tolist()"
   ]
  },
  {
   "cell_type": "code",
   "execution_count": 57,
   "id": "7a38ed7e-9d85-4dcd-94b5-b59ec0fddc39",
   "metadata": {},
   "outputs": [
    {
     "name": "stdout",
     "output_type": "stream",
     "text": [
      "hgbc training score: 0.996\n",
      "Training score: 0.996\n",
      "Test score: 0.458\n"
     ]
    }
   ],
   "source": [
    "numeric_transformer_hgbc = StandardScaler()\n",
    "categorical_transformer_hgbc = OrdinalEncoder(handle_unknown='use_encoded_value', unknown_value=np.nan)\n",
    "target_transformer_hgbc = OrdinalEncoder(handle_unknown='use_encoded_value', unknown_value=np.nan)\n",
    "\n",
    "preprocessor_hgbc = ColumnTransformer(\n",
    "    transformers=[\n",
    "        ('cat', categorical_transformer_hgbc, categorical_cols),\n",
    "        ('num', numeric_transformer_hgbc, numeric_cols)],\n",
    "        remainder='passthrough')\n",
    "\n",
    "# The preprocessor reorders the columns into blocks by type as defined by the transformers. So, now\n",
    "# the categorical cols are the first columns. We need their index numbers to use in the call to the\n",
    "# HistGradientBoostingClassifier() so it knows which cols to treat as categoricals (even though they\n",
    "# have been transformed into meaningless integers.)\n",
    "\n",
    "categorical_cols_idx = [_ for _ in range(len(categorical_cols))]\n",
    "\n",
    "# Append classifier to preprocessing pipeline.\n",
    "clf_hgbc = Pipeline(steps=[('preprocessor', preprocessor_hgbc),\n",
    "                      ('classifier', HistGradientBoostingClassifier(categorical_features=categorical_cols_idx))])\n",
    "\n",
    "# Fit model\n",
    "clf_hgbc.fit(train_X, train_y)\n",
    "print(f\"hgbc training score: {clf_hgbc.score(train_X, train_y):.3f}\")\n",
    "\n",
    "print(f\"Training score: {clf_hgbc.score(train_X, train_y):.3f}\")\n",
    "print(f\"Test score: {clf_hgbc.score(valid_X, valid_y):.3f}\")"
   ]
  },
  {
   "cell_type": "code",
   "execution_count": null,
   "id": "e5d9394f-a9bd-44fb-afe1-686ff645c4dc",
   "metadata": {},
   "outputs": [],
   "source": []
  }
 ],
 "metadata": {
  "kernelspec": {
   "display_name": "Python 3",
   "language": "python",
   "name": "python3"
  },
  "language_info": {
   "codemirror_mode": {
    "name": "ipython",
    "version": 3
   },
   "file_extension": ".py",
   "mimetype": "text/x-python",
   "name": "python",
   "nbconvert_exporter": "python",
   "pygments_lexer": "ipython3",
   "version": "3.7.7"
  }
 },
 "nbformat": 4,
 "nbformat_minor": 5
}
