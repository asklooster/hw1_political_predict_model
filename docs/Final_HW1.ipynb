{
 "cells": [
  {
   "cell_type": "code",
   "execution_count": 1,
   "id": "6d3a93b6-2af4-4b2f-b70d-91627f322c95",
   "metadata": {},
   "outputs": [],
   "source": [
    "import numpy as np\n",
    "import pandas as pd\n",
    "import matplotlib.pyplot as plt\n",
    "import seaborn as sns\n",
    "from sklearn.model_selection import train_test_split\n",
    "from sklearn.neural_network import MLPClassifier\n",
    "from sklearn.compose import ColumnTransformer\n",
    "from sklearn.pipeline import Pipeline, make_pipeline\n",
    "from sklearn.preprocessing import StandardScaler, OneHotEncoder\n",
    "from sklearn.linear_model import LogisticRegression, LogisticRegressionCV\n",
    "from sklearn.ensemble import RandomForestClassifier"
   ]
  },
  {
   "cell_type": "code",
   "execution_count": 2,
   "id": "07242785-2eb4-4f2d-b896-541f1d6c8862",
   "metadata": {},
   "outputs": [],
   "source": [
    "%matplotlib inline"
   ]
  },
  {
   "cell_type": "code",
   "execution_count": 83,
   "id": "bc51bf76-b28c-4266-b8f8-dd8fcd17920b",
   "metadata": {},
   "outputs": [],
   "source": [
    "tax_all = pd.read_csv('TaxInfo.csv')"
   ]
  },
  {
   "cell_type": "code",
   "execution_count": null,
   "id": "efed12bf-4236-407e-b4e8-8af0396ee130",
   "metadata": {},
   "outputs": [],
   "source": [
    "tax_df1 = pd.read_csv('TaxInfo.csv')"
   ]
  },
  {
   "cell_type": "code",
   "execution_count": 4,
   "id": "828713e4-c76c-4d29-9cf5-9ebec9ab829d",
   "metadata": {},
   "outputs": [],
   "source": [
    "tax_df1 = pd.get_dummies(tax_df, columns=['PoliticalParty'])"
   ]
  },
  {
   "cell_type": "code",
   "execution_count": 5,
   "id": "d4806a5d-4816-4d82-b496-953264b068cd",
   "metadata": {},
   "outputs": [],
   "source": [
    "tax_df1['Married'] = tax_df1['Married'].astype('category')\n",
    "tax_df1['Democrat'] = tax_df1['PoliticalParty_Democrat'].astype('category')\n",
    "tax_df1['Independent'] = tax_df1['PoliticalParty_Independent'].astype('category')\n",
    "tax_df1['Republican'] = tax_df1['PoliticalParty_Republican'].astype('category')\n",
    "tax_df1['Filed_2017'] = tax_df1['Filed_2017'].astype('category')\n",
    "tax_df1['Filed_2016'] = tax_df1['Filed_2016'].astype('category')\n",
    "tax_df1['Filed_2015'] = tax_df1['Filed_2015'].astype('category')"
   ]
  },
  {
   "cell_type": "code",
   "execution_count": 6,
   "id": "ce7cf645-dedd-4fbb-9166-8e3a3b30c7b9",
   "metadata": {},
   "outputs": [],
   "source": [
    "tax_df1 = pd.get_dummies(tax_df1, columns=['Married'])"
   ]
  },
  {
   "cell_type": "code",
   "execution_count": 7,
   "id": "ae89e3c8-ec1c-4fbc-b640-92a43adfe71e",
   "metadata": {},
   "outputs": [
    {
     "name": "stdout",
     "output_type": "stream",
     "text": [
      "<class 'pandas.core.frame.DataFrame'>\n",
      "RangeIndex: 1004 entries, 0 to 1003\n",
      "Data columns (total 17 columns):\n",
      " #   Column                      Non-Null Count  Dtype   \n",
      "---  ------                      --------------  -----   \n",
      " 0   HHI                         1004 non-null   int64   \n",
      " 1   HHDL                        1004 non-null   int64   \n",
      " 2   CollegGrads                 1004 non-null   int64   \n",
      " 3   AHHAge                      1004 non-null   int64   \n",
      " 4   Cars                        1004 non-null   int64   \n",
      " 5   Filed_2017                  1004 non-null   category\n",
      " 6   Filed_2016                  1004 non-null   category\n",
      " 7   Filed_2015                  1004 non-null   category\n",
      " 8   PoliticalParty_Democrat     1004 non-null   uint8   \n",
      " 9   PoliticalParty_Independent  1004 non-null   uint8   \n",
      " 10  PoliticalParty_Republican   1004 non-null   uint8   \n",
      " 11  Democrat                    1004 non-null   category\n",
      " 12  Independent                 1004 non-null   category\n",
      " 13  Republican                  1004 non-null   category\n",
      " 14  Married_0                   1004 non-null   uint8   \n",
      " 15  Married_1                   1004 non-null   uint8   \n",
      " 16  Married_2                   1004 non-null   uint8   \n",
      "dtypes: category(6), int64(5), uint8(6)\n",
      "memory usage: 51.8 KB\n"
     ]
    }
   ],
   "source": [
    "tax_df1.info()"
   ]
  },
  {
   "cell_type": "code",
   "execution_count": 8,
   "id": "48728434-60c6-4528-911f-4f26572bc08d",
   "metadata": {},
   "outputs": [],
   "source": [
    "tax_df1 = tax_df1.drop(columns=['PoliticalParty_Democrat', 'PoliticalParty_Republican', 'PoliticalParty_Independent', 'Married_2'])"
   ]
  },
  {
   "cell_type": "code",
   "execution_count": 9,
   "id": "264c4e56-0c86-4216-9c8d-6005ac135331",
   "metadata": {},
   "outputs": [
    {
     "name": "stdout",
     "output_type": "stream",
     "text": [
      "<class 'pandas.core.frame.DataFrame'>\n",
      "RangeIndex: 1004 entries, 0 to 1003\n",
      "Data columns (total 13 columns):\n",
      " #   Column       Non-Null Count  Dtype   \n",
      "---  ------       --------------  -----   \n",
      " 0   HHI          1004 non-null   int64   \n",
      " 1   HHDL         1004 non-null   int64   \n",
      " 2   CollegGrads  1004 non-null   int64   \n",
      " 3   AHHAge       1004 non-null   int64   \n",
      " 4   Cars         1004 non-null   int64   \n",
      " 5   Filed_2017   1004 non-null   category\n",
      " 6   Filed_2016   1004 non-null   category\n",
      " 7   Filed_2015   1004 non-null   category\n",
      " 8   Democrat     1004 non-null   category\n",
      " 9   Independent  1004 non-null   category\n",
      " 10  Republican   1004 non-null   category\n",
      " 11  Married_0    1004 non-null   uint8   \n",
      " 12  Married_1    1004 non-null   uint8   \n",
      "dtypes: category(6), int64(5), uint8(2)\n",
      "memory usage: 47.9 KB\n"
     ]
    }
   ],
   "source": [
    "tax_df1.info()"
   ]
  },
  {
   "cell_type": "code",
   "execution_count": 10,
   "id": "e4cdfc90-5ede-4827-a4cd-8f00da7a2c46",
   "metadata": {},
   "outputs": [],
   "source": [
    "tax_df1['Married_0'] = tax_df1['Married_0'].astype('category')\n",
    "tax_df1['Married_1'] = tax_df1['Married_1'].astype('category')"
   ]
  },
  {
   "cell_type": "code",
   "execution_count": 11,
   "id": "d218249e-2db9-43bc-b7b6-7591b52687bb",
   "metadata": {},
   "outputs": [
    {
     "name": "stdout",
     "output_type": "stream",
     "text": [
      "<class 'pandas.core.frame.DataFrame'>\n",
      "RangeIndex: 1004 entries, 0 to 1003\n",
      "Data columns (total 13 columns):\n",
      " #   Column       Non-Null Count  Dtype   \n",
      "---  ------       --------------  -----   \n",
      " 0   HHI          1004 non-null   int64   \n",
      " 1   HHDL         1004 non-null   int64   \n",
      " 2   CollegGrads  1004 non-null   int64   \n",
      " 3   AHHAge       1004 non-null   int64   \n",
      " 4   Cars         1004 non-null   int64   \n",
      " 5   Filed_2017   1004 non-null   category\n",
      " 6   Filed_2016   1004 non-null   category\n",
      " 7   Filed_2015   1004 non-null   category\n",
      " 8   Democrat     1004 non-null   category\n",
      " 9   Independent  1004 non-null   category\n",
      " 10  Republican   1004 non-null   category\n",
      " 11  Married_0    1004 non-null   category\n",
      " 12  Married_1    1004 non-null   category\n",
      "dtypes: category(8), int64(5)\n",
      "memory usage: 48.2 KB\n"
     ]
    }
   ],
   "source": [
    "tax_df1.info()"
   ]
  },
  {
   "cell_type": "code",
   "execution_count": 12,
   "id": "8cfbcfab-4e8c-4ad6-8e5a-4719f0c406fc",
   "metadata": {},
   "outputs": [],
   "source": [
    "#Create democratic predictor data\n",
    "tax_dem = tax_df1.drop(columns=['Independent', 'Republican'])"
   ]
  },
  {
   "cell_type": "code",
   "execution_count": 13,
   "id": "0c785c89-47ca-4801-a114-ae9511085a41",
   "metadata": {},
   "outputs": [
    {
     "name": "stdout",
     "output_type": "stream",
     "text": [
      "<class 'pandas.core.frame.DataFrame'>\n",
      "RangeIndex: 1004 entries, 0 to 1003\n",
      "Data columns (total 11 columns):\n",
      " #   Column       Non-Null Count  Dtype   \n",
      "---  ------       --------------  -----   \n",
      " 0   HHI          1004 non-null   int64   \n",
      " 1   HHDL         1004 non-null   int64   \n",
      " 2   CollegGrads  1004 non-null   int64   \n",
      " 3   AHHAge       1004 non-null   int64   \n",
      " 4   Cars         1004 non-null   int64   \n",
      " 5   Filed_2017   1004 non-null   category\n",
      " 6   Filed_2016   1004 non-null   category\n",
      " 7   Filed_2015   1004 non-null   category\n",
      " 8   Democrat     1004 non-null   category\n",
      " 9   Married_0    1004 non-null   category\n",
      " 10  Married_1    1004 non-null   category\n",
      "dtypes: category(6), int64(5)\n",
      "memory usage: 46.0 KB\n"
     ]
    }
   ],
   "source": [
    "tax_dem.info()"
   ]
  },
  {
   "cell_type": "code",
   "execution_count": 14,
   "id": "9fe9c38f-6703-4ac1-9205-2c9865e37000",
   "metadata": {},
   "outputs": [],
   "source": [
    "tax_rep = tax_df1.drop(columns=['Independent', 'Democrat'])"
   ]
  },
  {
   "cell_type": "code",
   "execution_count": 15,
   "id": "c41cf66f-b56c-400a-b258-10ff3f2ac7e2",
   "metadata": {},
   "outputs": [],
   "source": [
    "tax_ind = tax_df1.drop(columns=['Republican', 'Democrat'])"
   ]
  },
  {
   "cell_type": "markdown",
   "id": "b62daf98-d70f-4bc4-b035-fd609dab1e60",
   "metadata": {},
   "source": [
    "## Dem Model"
   ]
  },
  {
   "cell_type": "code",
   "execution_count": 218,
   "id": "50f4731d-1a7f-4d7f-ae69-d20e35caff8f",
   "metadata": {
    "tags": []
   },
   "outputs": [],
   "source": [
    "outcome = 'Democrat'\n",
    "predictors = [c for c in tax_dem.columns if c != outcome]\n",
    "\n",
    "X = tax_dem[predictors]\n",
    "Y = tax_dem[outcome]\n",
    "\n",
    "train_X, valid_X, train_Y, valid_Y = train_test_split(X, Y, test_size=0.2, random_state=21)"
   ]
  },
  {
   "cell_type": "code",
   "execution_count": 219,
   "id": "431f8461-5ade-4de5-98ba-4e2259ff552c",
   "metadata": {},
   "outputs": [],
   "source": [
    "categorical_cols = train_X.select_dtypes(include=['category']).columns.tolist()\n",
    "numeric_cols = train_X.select_dtypes(include=['number']).columns.tolist()\n",
    "\n",
    "all_cols = train_X.columns.tolist()"
   ]
  },
  {
   "cell_type": "markdown",
   "id": "3a77e9db-19f8-404f-91d8-f36946151d9a",
   "metadata": {},
   "source": [
    "### Logistic Model"
   ]
  },
  {
   "cell_type": "code",
   "execution_count": 220,
   "id": "52659255-2627-482b-b765-2c05fe7ab044",
   "metadata": {
    "tags": []
   },
   "outputs": [],
   "source": [
    "# Create transformer objects\n",
    "numeric_transformer = StandardScaler()\n",
    "categorical_transformer = OneHotEncoder(handle_unknown='ignore')\n",
    "\n",
    "# Combine transformers into a preprocessor step\n",
    "preprocessor = ColumnTransformer(\n",
    "    transformers=[\n",
    "        ('num', numeric_transformer, numeric_cols),\n",
    "        ('cat', categorical_transformer, categorical_cols)])\n",
    "\n",
    "# Classifier model\n",
    "clf_model = LogisticRegression(penalty='l2', C=10, solver='saga', max_iter=500)\n",
    "\n",
    "# Append classifier to preprocessing pipeline.\n",
    "# Now we have a full prediction pipeline.\n",
    "clf = Pipeline(steps=[('preprocessor', preprocessor),\n",
    "                      ('classifier', clf_model)])"
   ]
  },
  {
   "cell_type": "code",
   "execution_count": 221,
   "id": "a965a1fb-eb99-4244-9567-da03db8dc534",
   "metadata": {
    "tags": []
   },
   "outputs": [
    {
     "name": "stdout",
     "output_type": "stream",
     "text": [
      "Training score: 0.664\n",
      "Test score: 0.657\n"
     ]
    },
    {
     "name": "stderr",
     "output_type": "stream",
     "text": [
      "/Users/andrewklooster/opt/anaconda3/envs/aap/lib/python3.7/site-packages/sklearn/linear_model/_sag.py:329: ConvergenceWarning: The max_iter was reached which means the coef_ did not converge\n",
      "  \"the coef_ did not converge\", ConvergenceWarning)\n"
     ]
    }
   ],
   "source": [
    "# Further partition our training data into train and test sets to use for model fitting and testing\n",
    "\n",
    "# Fit model on new training data - notice that clf is actually the Pipeline\n",
    "clf.fit(train_X, train_Y)\n",
    "\n",
    "print(f\"Training score: {clf.score(train_X, train_Y):.3f}\")\n",
    "print(f\"Test score: {clf.score(valid_X, valid_Y):.3f}\")"
   ]
  },
  {
   "cell_type": "code",
   "execution_count": 222,
   "id": "c14da044-9bec-48d8-931a-84b1900103bb",
   "metadata": {},
   "outputs": [],
   "source": [
    "def coef_plot(model, title=None):\n",
    "    fig, ax = plt.subplots(3, sharex=True)\n",
    "       \n",
    "    if title:\n",
    "        ax[0].set_title(title)\n",
    "\n",
    "    for i in range(3):\n",
    "        ax[i].plot(model.steps[1][1].coef_[i])"
   ]
  },
  {
   "cell_type": "code",
   "execution_count": 223,
   "id": "47b76e92-8fb1-42ad-8814-8e7d0f83594c",
   "metadata": {},
   "outputs": [
    {
     "ename": "IndexError",
     "evalue": "index 1 is out of bounds for axis 0 with size 1",
     "output_type": "error",
     "traceback": [
      "\u001b[0;31m---------------------------------------------------------------------------\u001b[0m",
      "\u001b[0;31mIndexError\u001b[0m                                Traceback (most recent call last)",
      "\u001b[0;32m<ipython-input-223-0677e22b97e8>\u001b[0m in \u001b[0;36m<module>\u001b[0;34m\u001b[0m\n\u001b[0;32m----> 1\u001b[0;31m \u001b[0mcoef_plot\u001b[0m\u001b[0;34m(\u001b[0m\u001b[0mclf\u001b[0m\u001b[0;34m)\u001b[0m\u001b[0;34m\u001b[0m\u001b[0;34m\u001b[0m\u001b[0m\n\u001b[0m",
      "\u001b[0;32m<ipython-input-222-75ccc124c605>\u001b[0m in \u001b[0;36mcoef_plot\u001b[0;34m(model, title)\u001b[0m\n\u001b[1;32m      6\u001b[0m \u001b[0;34m\u001b[0m\u001b[0m\n\u001b[1;32m      7\u001b[0m     \u001b[0;32mfor\u001b[0m \u001b[0mi\u001b[0m \u001b[0;32min\u001b[0m \u001b[0mrange\u001b[0m\u001b[0;34m(\u001b[0m\u001b[0;36m3\u001b[0m\u001b[0;34m)\u001b[0m\u001b[0;34m:\u001b[0m\u001b[0;34m\u001b[0m\u001b[0;34m\u001b[0m\u001b[0m\n\u001b[0;32m----> 8\u001b[0;31m         \u001b[0max\u001b[0m\u001b[0;34m[\u001b[0m\u001b[0mi\u001b[0m\u001b[0;34m]\u001b[0m\u001b[0;34m.\u001b[0m\u001b[0mplot\u001b[0m\u001b[0;34m(\u001b[0m\u001b[0mmodel\u001b[0m\u001b[0;34m.\u001b[0m\u001b[0msteps\u001b[0m\u001b[0;34m[\u001b[0m\u001b[0;36m1\u001b[0m\u001b[0;34m]\u001b[0m\u001b[0;34m[\u001b[0m\u001b[0;36m1\u001b[0m\u001b[0;34m]\u001b[0m\u001b[0;34m.\u001b[0m\u001b[0mcoef_\u001b[0m\u001b[0;34m[\u001b[0m\u001b[0mi\u001b[0m\u001b[0;34m]\u001b[0m\u001b[0;34m)\u001b[0m\u001b[0;34m\u001b[0m\u001b[0;34m\u001b[0m\u001b[0m\n\u001b[0m",
      "\u001b[0;31mIndexError\u001b[0m: index 1 is out of bounds for axis 0 with size 1"
     ]
    },
    {
     "data": {
      "image/png": "[encoded data removed]",
      "text/plain": [
       "<Figure size 432x288 with 3 Axes>"
      ]
     },
     "metadata": {
      "needs_background": "light"
     },
     "output_type": "display_data"
    }
   ],
   "source": [
    "coef_plot(clf)"
   ]
  },
  {
   "cell_type": "markdown",
   "id": "9043c0e6-1216-4cc0-9098-aa95937f809b",
   "metadata": {},
   "source": [
    "### Random Forest Model - Democrat"
   ]
  },
  {
   "cell_type": "code",
   "execution_count": 111,
   "id": "a41331c7-ae5a-4b4d-964c-e6ec4adee6f9",
   "metadata": {},
   "outputs": [
    {
     "name": "stdout",
     "output_type": "stream",
     "text": [
      "Training score: 1.000\n",
      "Test score: 0.602\n"
     ]
    }
   ],
   "source": [
    "# Append random forest classifier to preprocessing pipeline.\n",
    "clf_dem_rf = Pipeline(steps=[('preprocessor', preprocessor),\n",
    "                      ('classifier', RandomForestClassifier(oob_score=True, random_state=0))])\n",
    "\n",
    "X_train, X_test, y_train, y_test = train_test_split(X, Y, test_size=0.2, random_state=21)\n",
    "\n",
    "clf_dem_rf.fit(X_train, y_train)\n",
    "\n",
    "print(f\"Training score: {clf_dem_rf.score(X_train, y_train):.3f}\")\n",
    "print(f\"Test score: {clf_dem_rf.score(X_test, y_test):.3f}\")"
   ]
  },
  {
   "cell_type": "code",
   "execution_count": 112,
   "id": "2fa1c4b4-8348-46a8-bb79-aebf09145242",
   "metadata": {},
   "outputs": [],
   "source": [
    "clf_dem_rf_predictions = clf_dem_rf.predict(X_test)"
   ]
  },
  {
   "cell_type": "code",
   "execution_count": 113,
   "id": "116de511-928a-4303-966e-4c06e5c6e0d4",
   "metadata": {
    "tags": []
   },
   "outputs": [],
   "source": [
    "clf_dem_rf_predictions1 = clf_dem_rf.predict_proba(X_test)"
   ]
  },
  {
   "cell_type": "code",
   "execution_count": 114,
   "id": "5ef76548-68c2-4ec9-bf71-3559742caa09",
   "metadata": {},
   "outputs": [],
   "source": [
    "clf_dem_results = pd.DataFrame(clf_dem_rf_predictions1, columns=['a', 'Dem_probability'])"
   ]
  },
  {
   "cell_type": "code",
   "execution_count": 115,
   "id": "c4e7b660-e7cd-4a57-9b9d-9cf4576b3388",
   "metadata": {},
   "outputs": [],
   "source": [
    "submit_dict = {'id': X_test.index,\n",
    "              'Dem_probability': clf_dem_results['Dem_probability']}"
   ]
  },
  {
   "cell_type": "code",
   "execution_count": 116,
   "id": "6ea0d0dc-5ff0-4f6c-8b74-9f0c95ee0827",
   "metadata": {},
   "outputs": [],
   "source": [
    "clf_RF_results1 = pd.DataFrame(submit_dict, columns=['id', 'Dem_probability'])"
   ]
  },
  {
   "cell_type": "code",
   "execution_count": 117,
   "id": "37eeea2a-b966-4df5-a888-29869456a1b2",
   "metadata": {},
   "outputs": [
    {
     "data": {
      "text/html": [
       "<div>\n",
       "<style scoped>\n",
       "    .dataframe tbody tr th:only-of-type {\n",
       "        vertical-align: middle;\n",
       "    }\n",
       "\n",
       "    .dataframe tbody tr th {\n",
       "        vertical-align: top;\n",
       "    }\n",
       "\n",
       "    .dataframe thead th {\n",
       "        text-align: right;\n",
       "    }\n",
       "</style>\n",
       "<table border=\"1\" class=\"dataframe\">\n",
       "  <thead>\n",
       "    <tr style=\"text-align: right;\">\n",
       "      <th></th>\n",
       "      <th>id</th>\n",
       "      <th>Dem_probability</th>\n",
       "    </tr>\n",
       "  </thead>\n",
       "  <tbody>\n",
       "    <tr>\n",
       "      <th>0</th>\n",
       "      <td>213</td>\n",
       "      <td>0.28</td>\n",
       "    </tr>\n",
       "    <tr>\n",
       "      <th>1</th>\n",
       "      <td>553</td>\n",
       "      <td>0.35</td>\n",
       "    </tr>\n",
       "    <tr>\n",
       "      <th>2</th>\n",
       "      <td>187</td>\n",
       "      <td>0.38</td>\n",
       "    </tr>\n",
       "    <tr>\n",
       "      <th>3</th>\n",
       "      <td>777</td>\n",
       "      <td>0.43</td>\n",
       "    </tr>\n",
       "    <tr>\n",
       "      <th>4</th>\n",
       "      <td>828</td>\n",
       "      <td>0.34</td>\n",
       "    </tr>\n",
       "  </tbody>\n",
       "</table>\n",
       "</div>"
      ],
      "text/plain": [
       "    id  Dem_probability\n",
       "0  213             0.28\n",
       "1  553             0.35\n",
       "2  187             0.38\n",
       "3  777             0.43\n",
       "4  828             0.34"
      ]
     },
     "execution_count": 117,
     "metadata": {},
     "output_type": "execute_result"
    }
   ],
   "source": [
    "clf_RF_results1.head()"
   ]
  },
  {
   "cell_type": "markdown",
   "id": "c4cb52f0-4fba-4e8b-9a12-c001dab1bbcc",
   "metadata": {},
   "source": [
    "### Random Forest Model - Independent"
   ]
  },
  {
   "cell_type": "code",
   "execution_count": 118,
   "id": "6d774e79-4cb8-4e46-a8b5-ca6a8874e354",
   "metadata": {},
   "outputs": [],
   "source": [
    "outcome = 'Independent'\n",
    "predictors = [c for c in tax_ind.columns if c != outcome]\n",
    "\n",
    "X = tax_ind[predictors]\n",
    "Y = tax_ind[outcome]\n",
    "train_X, valid_X, train_Y, valid_Y = train_test_split(X, Y, test_size=0.2, random_state=21)"
   ]
  },
  {
   "cell_type": "code",
   "execution_count": 119,
   "id": "19ffa8fe-4719-4ca1-870c-2cbc71e8718e",
   "metadata": {},
   "outputs": [],
   "source": [
    "categorical_cols = train_X.select_dtypes(include=['category']).columns.tolist()\n",
    "numeric_cols = train_X.select_dtypes(include=['number']).columns.tolist()\n",
    "\n",
    "all_cols = train_X.columns.tolist()"
   ]
  },
  {
   "cell_type": "code",
   "execution_count": 120,
   "id": "9323339b-d4f7-4f90-beaa-997f40c3e3e8",
   "metadata": {},
   "outputs": [
    {
     "name": "stdout",
     "output_type": "stream",
     "text": [
      "Training score: 1.000\n",
      "Test score: 0.642\n"
     ]
    }
   ],
   "source": [
    "# Append random forest classifier to preprocessing pipeline.\n",
    "clf_ind_rf = Pipeline(steps=[('preprocessor', preprocessor),\n",
    "                      ('classifier', RandomForestClassifier(oob_score=True, random_state=0))])\n",
    "\n",
    "X_train, X_test, y_train, y_test = train_test_split(X, Y, test_size=0.2, random_state=21)\n",
    "\n",
    "clf_ind_rf.fit(X_train, y_train)\n",
    "\n",
    "print(f\"Training score: {clf_ind_rf.score(X_train, y_train):.3f}\")\n",
    "print(f\"Test score: {clf_ind_rf.score(X_test, y_test):.3f}\")"
   ]
  },
  {
   "cell_type": "code",
   "execution_count": 121,
   "id": "2c0fc0ea-bd81-4b85-a5ed-635772d0d535",
   "metadata": {},
   "outputs": [],
   "source": [
    "clf_ind_rf_predictions1 = clf_ind_rf.predict_proba(X_test)\n",
    "clf_ind_results = pd.DataFrame(clf_ind_rf_predictions1, columns=['a', 'Ind_probability'])"
   ]
  },
  {
   "cell_type": "code",
   "execution_count": 122,
   "id": "1f1e77f5-7176-4c5f-8a79-649d5a1dd583",
   "metadata": {},
   "outputs": [
    {
     "data": {
      "text/html": [
       "<div>\n",
       "<style scoped>\n",
       "    .dataframe tbody tr th:only-of-type {\n",
       "        vertical-align: middle;\n",
       "    }\n",
       "\n",
       "    .dataframe tbody tr th {\n",
       "        vertical-align: top;\n",
       "    }\n",
       "\n",
       "    .dataframe thead th {\n",
       "        text-align: right;\n",
       "    }\n",
       "</style>\n",
       "<table border=\"1\" class=\"dataframe\">\n",
       "  <thead>\n",
       "    <tr style=\"text-align: right;\">\n",
       "      <th></th>\n",
       "      <th>a</th>\n",
       "      <th>Ind_probability</th>\n",
       "    </tr>\n",
       "  </thead>\n",
       "  <tbody>\n",
       "    <tr>\n",
       "      <th>0</th>\n",
       "      <td>0.49</td>\n",
       "      <td>0.51</td>\n",
       "    </tr>\n",
       "    <tr>\n",
       "      <th>1</th>\n",
       "      <td>0.64</td>\n",
       "      <td>0.36</td>\n",
       "    </tr>\n",
       "    <tr>\n",
       "      <th>2</th>\n",
       "      <td>0.85</td>\n",
       "      <td>0.15</td>\n",
       "    </tr>\n",
       "    <tr>\n",
       "      <th>3</th>\n",
       "      <td>0.83</td>\n",
       "      <td>0.17</td>\n",
       "    </tr>\n",
       "    <tr>\n",
       "      <th>4</th>\n",
       "      <td>0.74</td>\n",
       "      <td>0.26</td>\n",
       "    </tr>\n",
       "  </tbody>\n",
       "</table>\n",
       "</div>"
      ],
      "text/plain": [
       "      a  Ind_probability\n",
       "0  0.49             0.51\n",
       "1  0.64             0.36\n",
       "2  0.85             0.15\n",
       "3  0.83             0.17\n",
       "4  0.74             0.26"
      ]
     },
     "execution_count": 122,
     "metadata": {},
     "output_type": "execute_result"
    }
   ],
   "source": [
    "clf_ind_results.head()"
   ]
  },
  {
   "cell_type": "code",
   "execution_count": 123,
   "id": "76cdd7ca-e206-442f-aa00-b07292956e2f",
   "metadata": {},
   "outputs": [
    {
     "data": {
      "text/html": [
       "<div>\n",
       "<style scoped>\n",
       "    .dataframe tbody tr th:only-of-type {\n",
       "        vertical-align: middle;\n",
       "    }\n",
       "\n",
       "    .dataframe tbody tr th {\n",
       "        vertical-align: top;\n",
       "    }\n",
       "\n",
       "    .dataframe thead th {\n",
       "        text-align: right;\n",
       "    }\n",
       "</style>\n",
       "<table border=\"1\" class=\"dataframe\">\n",
       "  <thead>\n",
       "    <tr style=\"text-align: right;\">\n",
       "      <th></th>\n",
       "      <th>id</th>\n",
       "      <th>Dem_probability</th>\n",
       "      <th>Ind_probability</th>\n",
       "    </tr>\n",
       "  </thead>\n",
       "  <tbody>\n",
       "    <tr>\n",
       "      <th>0</th>\n",
       "      <td>213</td>\n",
       "      <td>0.28</td>\n",
       "      <td>0.51</td>\n",
       "    </tr>\n",
       "    <tr>\n",
       "      <th>1</th>\n",
       "      <td>553</td>\n",
       "      <td>0.35</td>\n",
       "      <td>0.36</td>\n",
       "    </tr>\n",
       "    <tr>\n",
       "      <th>2</th>\n",
       "      <td>187</td>\n",
       "      <td>0.38</td>\n",
       "      <td>0.15</td>\n",
       "    </tr>\n",
       "    <tr>\n",
       "      <th>3</th>\n",
       "      <td>777</td>\n",
       "      <td>0.43</td>\n",
       "      <td>0.17</td>\n",
       "    </tr>\n",
       "    <tr>\n",
       "      <th>4</th>\n",
       "      <td>828</td>\n",
       "      <td>0.34</td>\n",
       "      <td>0.26</td>\n",
       "    </tr>\n",
       "  </tbody>\n",
       "</table>\n",
       "</div>"
      ],
      "text/plain": [
       "    id  Dem_probability  Ind_probability\n",
       "0  213             0.28             0.51\n",
       "1  553             0.35             0.36\n",
       "2  187             0.38             0.15\n",
       "3  777             0.43             0.17\n",
       "4  828             0.34             0.26"
      ]
     },
     "execution_count": 123,
     "metadata": {},
     "output_type": "execute_result"
    }
   ],
   "source": [
    "clf_RF_results2 = pd.merge(clf_RF_results1,clf_ind_results['Ind_probability'], left_index = True, right_index = True)\n",
    "clf_RF_results2.head()"
   ]
  },
  {
   "cell_type": "markdown",
   "id": "b1f9069c-cfdd-4ca0-b897-224a60ae82b1",
   "metadata": {},
   "source": [
    "### Random Forest Model - Republican"
   ]
  },
  {
   "cell_type": "code",
   "execution_count": 235,
   "id": "68e0fe38-1293-4249-965c-9ca2a4284990",
   "metadata": {},
   "outputs": [],
   "source": [
    "outcome = 'Republican'\n",
    "predictors = [c for c in tax_rep.columns if c != outcome]\n",
    "\n",
    "X = tax_rep[predictors]\n",
    "Y = tax_rep[outcome]\n",
    "train_X, valid_X, train_Y, valid_Y = train_test_split(X, Y, test_size=0.2, random_state=21)"
   ]
  },
  {
   "cell_type": "code",
   "execution_count": 236,
   "id": "10f29d9b-cfc1-4c34-9568-7c5db8d86dcf",
   "metadata": {},
   "outputs": [],
   "source": [
    "categorical_cols = train_X.select_dtypes(include=['category']).columns.tolist()\n",
    "numeric_cols = train_X.select_dtypes(include=['number']).columns.tolist()\n",
    "\n",
    "all_cols = train_X.columns.tolist()"
   ]
  },
  {
   "cell_type": "code",
   "execution_count": 237,
   "id": "20b8364d-27f7-404f-bcaa-97192a128921",
   "metadata": {},
   "outputs": [
    {
     "name": "stdout",
     "output_type": "stream",
     "text": [
      "Training score: 1.000\n",
      "Test score: 0.662\n"
     ]
    }
   ],
   "source": [
    "# Append random forest classifier to preprocessing pipeline.\n",
    "clf_rep_rf = Pipeline(steps=[('preprocessor', preprocessor),\n",
    "                      ('classifier', RandomForestClassifier(oob_score=True, random_state=21))])\n",
    "\n",
    "X_train, X_test, y_train, y_test = train_test_split(X, Y, test_size=0.2, random_state=21)\n",
    "\n",
    "clf_rep_rf.fit(X_train, y_train)\n",
    "\n",
    "print(f\"Training score: {clf_rep_rf.score(X_train, y_train):.3f}\")\n",
    "print(f\"Test score: {clf_rep_rf.score(X_test, y_test):.3f}\")"
   ]
  },
  {
   "cell_type": "code",
   "execution_count": 127,
   "id": "a5e84af6-251e-4fda-a719-a82861cdcbb9",
   "metadata": {},
   "outputs": [],
   "source": [
    "clf_rep_rf_predictions1 = clf_rep_rf.predict_proba(X_test)\n",
    "clf_rep_results = pd.DataFrame(clf_rep_rf_predictions1, columns=['a', 'Rep_probability'])"
   ]
  },
  {
   "cell_type": "code",
   "execution_count": 128,
   "id": "1ac391f1-4e99-409b-b01e-e117905eba70",
   "metadata": {},
   "outputs": [
    {
     "data": {
      "text/html": [
       "<div>\n",
       "<style scoped>\n",
       "    .dataframe tbody tr th:only-of-type {\n",
       "        vertical-align: middle;\n",
       "    }\n",
       "\n",
       "    .dataframe tbody tr th {\n",
       "        vertical-align: top;\n",
       "    }\n",
       "\n",
       "    .dataframe thead th {\n",
       "        text-align: right;\n",
       "    }\n",
       "</style>\n",
       "<table border=\"1\" class=\"dataframe\">\n",
       "  <thead>\n",
       "    <tr style=\"text-align: right;\">\n",
       "      <th></th>\n",
       "      <th>id</th>\n",
       "      <th>Dem_probability</th>\n",
       "      <th>Ind_probability</th>\n",
       "      <th>Rep_probability</th>\n",
       "    </tr>\n",
       "  </thead>\n",
       "  <tbody>\n",
       "    <tr>\n",
       "      <th>0</th>\n",
       "      <td>213</td>\n",
       "      <td>0.28</td>\n",
       "      <td>0.51</td>\n",
       "      <td>0.21</td>\n",
       "    </tr>\n",
       "    <tr>\n",
       "      <th>1</th>\n",
       "      <td>553</td>\n",
       "      <td>0.35</td>\n",
       "      <td>0.36</td>\n",
       "      <td>0.23</td>\n",
       "    </tr>\n",
       "    <tr>\n",
       "      <th>2</th>\n",
       "      <td>187</td>\n",
       "      <td>0.38</td>\n",
       "      <td>0.15</td>\n",
       "      <td>0.37</td>\n",
       "    </tr>\n",
       "    <tr>\n",
       "      <th>3</th>\n",
       "      <td>777</td>\n",
       "      <td>0.43</td>\n",
       "      <td>0.17</td>\n",
       "      <td>0.52</td>\n",
       "    </tr>\n",
       "    <tr>\n",
       "      <th>4</th>\n",
       "      <td>828</td>\n",
       "      <td>0.34</td>\n",
       "      <td>0.26</td>\n",
       "      <td>0.44</td>\n",
       "    </tr>\n",
       "  </tbody>\n",
       "</table>\n",
       "</div>"
      ],
      "text/plain": [
       "    id  Dem_probability  Ind_probability  Rep_probability\n",
       "0  213             0.28             0.51             0.21\n",
       "1  553             0.35             0.36             0.23\n",
       "2  187             0.38             0.15             0.37\n",
       "3  777             0.43             0.17             0.52\n",
       "4  828             0.34             0.26             0.44"
      ]
     },
     "execution_count": 128,
     "metadata": {},
     "output_type": "execute_result"
    }
   ],
   "source": [
    "clf_RF_results3 = pd.merge(clf_RF_results2,clf_rep_results['Rep_probability'], left_index = True, right_index = True)\n",
    "clf_RF_results3.head()"
   ]
  },
  {
   "cell_type": "code",
   "execution_count": 135,
   "id": "f1b2cd08-052c-4375-a648-b3d07eb1fa3d",
   "metadata": {},
   "outputs": [
    {
     "data": {
      "text/plain": [
       "HHI                 288968\n",
       "HHDL               -211093\n",
       "Married                  2\n",
       "CollegGrads              1\n",
       "AHHAge                  25\n",
       "Cars                     0\n",
       "Filed_2017               0\n",
       "Filed_2016               1\n",
       "Filed_2015               1\n",
       "PoliticalParty    Democrat\n",
       "Name: 213, dtype: object"
      ]
     },
     "execution_count": 135,
     "metadata": {},
     "output_type": "execute_result"
    }
   ],
   "source": [
    "tax_all.iloc[213][:]"
   ]
  },
  {
   "cell_type": "code",
   "execution_count": 105,
   "id": "6954b421-0a4d-4c15-b5ed-87f0134b8f81",
   "metadata": {},
   "outputs": [],
   "source": [
    "outcome = 'PoliticalParty'\n",
    "predictors = [c for c in tax_all.columns if c != outcome]\n",
    "\n",
    "X = tax_all[predictors]\n",
    "Y = tax_all[outcome]\n",
    "train_X, valid_X, train_Y, valid_Y = train_test_split(X, Y, test_size=0.2, random_state=21)"
   ]
  },
  {
   "cell_type": "code",
   "execution_count": 129,
   "id": "78ef6844-516c-40ca-b75a-6917b917404f",
   "metadata": {},
   "outputs": [
    {
     "data": {
      "text/plain": [
       "213    0\n",
       "553    0\n",
       "187    1\n",
       "777    1\n",
       "828    0\n",
       "      ..\n",
       "360    0\n",
       "732    1\n",
       "488    1\n",
       "855    0\n",
       "379    1\n",
       "Name: Republican, Length: 201, dtype: category\n",
       "Categories (2, uint64): [0, 1]"
      ]
     },
     "execution_count": 129,
     "metadata": {},
     "output_type": "execute_result"
    }
   ],
   "source": [
    "valid_Y"
   ]
  },
  {
   "cell_type": "code",
   "execution_count": null,
   "id": "704c790b-7787-41eb-a3b9-5b375cf56f10",
   "metadata": {},
   "outputs": [],
   "source": [
    "vali"
   ]
  },
  {
   "cell_type": "code",
   "execution_count": 131,
   "id": "c17c8782-0b50-4761-92b1-a91ecc5a9d34",
   "metadata": {},
   "outputs": [],
   "source": [
    "clf_RF_results4 = pd.merge(clf_RF_results3, tax_all['PoliticalParty'], left_on = 'id', right_index = True)"
   ]
  },
  {
   "cell_type": "code",
   "execution_count": 132,
   "id": "1ffdff50-074f-427a-85e9-5b0e1f00c4fd",
   "metadata": {},
   "outputs": [
    {
     "data": {
      "text/html": [
       "<div>\n",
       "<style scoped>\n",
       "    .dataframe tbody tr th:only-of-type {\n",
       "        vertical-align: middle;\n",
       "    }\n",
       "\n",
       "    .dataframe tbody tr th {\n",
       "        vertical-align: top;\n",
       "    }\n",
       "\n",
       "    .dataframe thead th {\n",
       "        text-align: right;\n",
       "    }\n",
       "</style>\n",
       "<table border=\"1\" class=\"dataframe\">\n",
       "  <thead>\n",
       "    <tr style=\"text-align: right;\">\n",
       "      <th></th>\n",
       "      <th>id</th>\n",
       "      <th>Dem_probability</th>\n",
       "      <th>Ind_probability</th>\n",
       "      <th>Rep_probability</th>\n",
       "      <th>PoliticalParty</th>\n",
       "    </tr>\n",
       "  </thead>\n",
       "  <tbody>\n",
       "    <tr>\n",
       "      <th>0</th>\n",
       "      <td>213</td>\n",
       "      <td>0.28</td>\n",
       "      <td>0.51</td>\n",
       "      <td>0.21</td>\n",
       "      <td>Democrat</td>\n",
       "    </tr>\n",
       "    <tr>\n",
       "      <th>1</th>\n",
       "      <td>553</td>\n",
       "      <td>0.35</td>\n",
       "      <td>0.36</td>\n",
       "      <td>0.23</td>\n",
       "      <td>Independent</td>\n",
       "    </tr>\n",
       "    <tr>\n",
       "      <th>2</th>\n",
       "      <td>187</td>\n",
       "      <td>0.38</td>\n",
       "      <td>0.15</td>\n",
       "      <td>0.37</td>\n",
       "      <td>Republican</td>\n",
       "    </tr>\n",
       "    <tr>\n",
       "      <th>3</th>\n",
       "      <td>777</td>\n",
       "      <td>0.43</td>\n",
       "      <td>0.17</td>\n",
       "      <td>0.52</td>\n",
       "      <td>Republican</td>\n",
       "    </tr>\n",
       "    <tr>\n",
       "      <th>4</th>\n",
       "      <td>828</td>\n",
       "      <td>0.34</td>\n",
       "      <td>0.26</td>\n",
       "      <td>0.44</td>\n",
       "      <td>Democrat</td>\n",
       "    </tr>\n",
       "  </tbody>\n",
       "</table>\n",
       "</div>"
      ],
      "text/plain": [
       "    id  Dem_probability  Ind_probability  Rep_probability PoliticalParty\n",
       "0  213             0.28             0.51             0.21       Democrat\n",
       "1  553             0.35             0.36             0.23    Independent\n",
       "2  187             0.38             0.15             0.37     Republican\n",
       "3  777             0.43             0.17             0.52     Republican\n",
       "4  828             0.34             0.26             0.44       Democrat"
      ]
     },
     "execution_count": 132,
     "metadata": {},
     "output_type": "execute_result"
    }
   ],
   "source": [
    "clf_RF_results4.head()"
   ]
  },
  {
   "cell_type": "code",
   "execution_count": 146,
   "id": "e8d04543-330b-40e0-9722-f3bd79502e5a",
   "metadata": {},
   "outputs": [],
   "source": [
    "l = []\n",
    "for index,row in clf_RF_results4.iterrows():\n",
    "    if (row['Dem_probability'] > row['Ind_probability']) and (row['Dem_probability'] > row['Rep_probability']):\n",
    "        l.append([index, 'Democrat'])\n",
    "    elif (row['Ind_probability'] > row['Dem_probability']) and (row['Ind_probability'] > row['Rep_probability']):\n",
    "        l.append([index, 'Independent'])\n",
    "    else:\n",
    "        l.append([index, 'Republican'])"
   ]
  },
  {
   "cell_type": "code",
   "execution_count": 148,
   "id": "ea9f7219-b87e-46dd-9639-a4ab5718d90a",
   "metadata": {},
   "outputs": [],
   "source": [
    "results = pd.DataFrame(l, columns=['a', 'Cummulative_Predict'])"
   ]
  },
  {
   "cell_type": "code",
   "execution_count": 149,
   "id": "f074d940-3446-4ec7-bfea-9d5fa4014cc0",
   "metadata": {},
   "outputs": [
    {
     "data": {
      "text/html": [
       "<div>\n",
       "<style scoped>\n",
       "    .dataframe tbody tr th:only-of-type {\n",
       "        vertical-align: middle;\n",
       "    }\n",
       "\n",
       "    .dataframe tbody tr th {\n",
       "        vertical-align: top;\n",
       "    }\n",
       "\n",
       "    .dataframe thead th {\n",
       "        text-align: right;\n",
       "    }\n",
       "</style>\n",
       "<table border=\"1\" class=\"dataframe\">\n",
       "  <thead>\n",
       "    <tr style=\"text-align: right;\">\n",
       "      <th></th>\n",
       "      <th>a</th>\n",
       "      <th>Cummulative_Predict</th>\n",
       "    </tr>\n",
       "  </thead>\n",
       "  <tbody>\n",
       "    <tr>\n",
       "      <th>0</th>\n",
       "      <td>0</td>\n",
       "      <td>Independent</td>\n",
       "    </tr>\n",
       "    <tr>\n",
       "      <th>1</th>\n",
       "      <td>1</td>\n",
       "      <td>Independent</td>\n",
       "    </tr>\n",
       "    <tr>\n",
       "      <th>2</th>\n",
       "      <td>2</td>\n",
       "      <td>Democrat</td>\n",
       "    </tr>\n",
       "    <tr>\n",
       "      <th>3</th>\n",
       "      <td>3</td>\n",
       "      <td>Republican</td>\n",
       "    </tr>\n",
       "    <tr>\n",
       "      <th>4</th>\n",
       "      <td>4</td>\n",
       "      <td>Republican</td>\n",
       "    </tr>\n",
       "    <tr>\n",
       "      <th>...</th>\n",
       "      <td>...</td>\n",
       "      <td>...</td>\n",
       "    </tr>\n",
       "    <tr>\n",
       "      <th>196</th>\n",
       "      <td>196</td>\n",
       "      <td>Democrat</td>\n",
       "    </tr>\n",
       "    <tr>\n",
       "      <th>197</th>\n",
       "      <td>197</td>\n",
       "      <td>Democrat</td>\n",
       "    </tr>\n",
       "    <tr>\n",
       "      <th>198</th>\n",
       "      <td>198</td>\n",
       "      <td>Democrat</td>\n",
       "    </tr>\n",
       "    <tr>\n",
       "      <th>199</th>\n",
       "      <td>199</td>\n",
       "      <td>Independent</td>\n",
       "    </tr>\n",
       "    <tr>\n",
       "      <th>200</th>\n",
       "      <td>200</td>\n",
       "      <td>Democrat</td>\n",
       "    </tr>\n",
       "  </tbody>\n",
       "</table>\n",
       "<p>201 rows × 2 columns</p>\n",
       "</div>"
      ],
      "text/plain": [
       "       a Cummulative_Predict\n",
       "0      0         Independent\n",
       "1      1         Independent\n",
       "2      2            Democrat\n",
       "3      3          Republican\n",
       "4      4          Republican\n",
       "..   ...                 ...\n",
       "196  196            Democrat\n",
       "197  197            Democrat\n",
       "198  198            Democrat\n",
       "199  199         Independent\n",
       "200  200            Democrat\n",
       "\n",
       "[201 rows x 2 columns]"
      ]
     },
     "execution_count": 149,
     "metadata": {},
     "output_type": "execute_result"
    }
   ],
   "source": [
    "results"
   ]
  },
  {
   "cell_type": "code",
   "execution_count": 150,
   "id": "752ce7aa-81cc-44aa-b4bc-b3c7bf3ac2b6",
   "metadata": {},
   "outputs": [],
   "source": [
    "clf_RF_results5 = pd.merge(clf_RF_results4, results['Cummulative_Predict'], left_index = True, right_index = True)"
   ]
  },
  {
   "cell_type": "code",
   "execution_count": 151,
   "id": "f4c1f8fe-7c27-437a-8f39-b6cdae7a8f5a",
   "metadata": {},
   "outputs": [
    {
     "data": {
      "text/html": [
       "<div>\n",
       "<style scoped>\n",
       "    .dataframe tbody tr th:only-of-type {\n",
       "        vertical-align: middle;\n",
       "    }\n",
       "\n",
       "    .dataframe tbody tr th {\n",
       "        vertical-align: top;\n",
       "    }\n",
       "\n",
       "    .dataframe thead th {\n",
       "        text-align: right;\n",
       "    }\n",
       "</style>\n",
       "<table border=\"1\" class=\"dataframe\">\n",
       "  <thead>\n",
       "    <tr style=\"text-align: right;\">\n",
       "      <th></th>\n",
       "      <th>id</th>\n",
       "      <th>Dem_probability</th>\n",
       "      <th>Ind_probability</th>\n",
       "      <th>Rep_probability</th>\n",
       "      <th>PoliticalParty</th>\n",
       "      <th>Cummulative_Predict</th>\n",
       "    </tr>\n",
       "  </thead>\n",
       "  <tbody>\n",
       "    <tr>\n",
       "      <th>0</th>\n",
       "      <td>213</td>\n",
       "      <td>0.28</td>\n",
       "      <td>0.51</td>\n",
       "      <td>0.21</td>\n",
       "      <td>Democrat</td>\n",
       "      <td>Independent</td>\n",
       "    </tr>\n",
       "    <tr>\n",
       "      <th>1</th>\n",
       "      <td>553</td>\n",
       "      <td>0.35</td>\n",
       "      <td>0.36</td>\n",
       "      <td>0.23</td>\n",
       "      <td>Independent</td>\n",
       "      <td>Independent</td>\n",
       "    </tr>\n",
       "    <tr>\n",
       "      <th>2</th>\n",
       "      <td>187</td>\n",
       "      <td>0.38</td>\n",
       "      <td>0.15</td>\n",
       "      <td>0.37</td>\n",
       "      <td>Republican</td>\n",
       "      <td>Democrat</td>\n",
       "    </tr>\n",
       "    <tr>\n",
       "      <th>3</th>\n",
       "      <td>777</td>\n",
       "      <td>0.43</td>\n",
       "      <td>0.17</td>\n",
       "      <td>0.52</td>\n",
       "      <td>Republican</td>\n",
       "      <td>Republican</td>\n",
       "    </tr>\n",
       "    <tr>\n",
       "      <th>4</th>\n",
       "      <td>828</td>\n",
       "      <td>0.34</td>\n",
       "      <td>0.26</td>\n",
       "      <td>0.44</td>\n",
       "      <td>Democrat</td>\n",
       "      <td>Republican</td>\n",
       "    </tr>\n",
       "    <tr>\n",
       "      <th>...</th>\n",
       "      <td>...</td>\n",
       "      <td>...</td>\n",
       "      <td>...</td>\n",
       "      <td>...</td>\n",
       "      <td>...</td>\n",
       "      <td>...</td>\n",
       "    </tr>\n",
       "    <tr>\n",
       "      <th>196</th>\n",
       "      <td>360</td>\n",
       "      <td>0.46</td>\n",
       "      <td>0.29</td>\n",
       "      <td>0.28</td>\n",
       "      <td>Democrat</td>\n",
       "      <td>Democrat</td>\n",
       "    </tr>\n",
       "    <tr>\n",
       "      <th>197</th>\n",
       "      <td>732</td>\n",
       "      <td>0.36</td>\n",
       "      <td>0.32</td>\n",
       "      <td>0.29</td>\n",
       "      <td>Republican</td>\n",
       "      <td>Democrat</td>\n",
       "    </tr>\n",
       "    <tr>\n",
       "      <th>198</th>\n",
       "      <td>488</td>\n",
       "      <td>0.61</td>\n",
       "      <td>0.22</td>\n",
       "      <td>0.29</td>\n",
       "      <td>Republican</td>\n",
       "      <td>Democrat</td>\n",
       "    </tr>\n",
       "    <tr>\n",
       "      <th>199</th>\n",
       "      <td>855</td>\n",
       "      <td>0.40</td>\n",
       "      <td>0.42</td>\n",
       "      <td>0.11</td>\n",
       "      <td>Democrat</td>\n",
       "      <td>Independent</td>\n",
       "    </tr>\n",
       "    <tr>\n",
       "      <th>200</th>\n",
       "      <td>379</td>\n",
       "      <td>0.52</td>\n",
       "      <td>0.42</td>\n",
       "      <td>0.18</td>\n",
       "      <td>Republican</td>\n",
       "      <td>Democrat</td>\n",
       "    </tr>\n",
       "  </tbody>\n",
       "</table>\n",
       "<p>201 rows × 6 columns</p>\n",
       "</div>"
      ],
      "text/plain": [
       "      id  Dem_probability  Ind_probability  Rep_probability PoliticalParty  \\\n",
       "0    213             0.28             0.51             0.21       Democrat   \n",
       "1    553             0.35             0.36             0.23    Independent   \n",
       "2    187             0.38             0.15             0.37     Republican   \n",
       "3    777             0.43             0.17             0.52     Republican   \n",
       "4    828             0.34             0.26             0.44       Democrat   \n",
       "..   ...              ...              ...              ...            ...   \n",
       "196  360             0.46             0.29             0.28       Democrat   \n",
       "197  732             0.36             0.32             0.29     Republican   \n",
       "198  488             0.61             0.22             0.29     Republican   \n",
       "199  855             0.40             0.42             0.11       Democrat   \n",
       "200  379             0.52             0.42             0.18     Republican   \n",
       "\n",
       "    Cummulative_Predict  \n",
       "0           Independent  \n",
       "1           Independent  \n",
       "2              Democrat  \n",
       "3            Republican  \n",
       "4            Republican  \n",
       "..                  ...  \n",
       "196            Democrat  \n",
       "197            Democrat  \n",
       "198            Democrat  \n",
       "199         Independent  \n",
       "200            Democrat  \n",
       "\n",
       "[201 rows x 6 columns]"
      ]
     },
     "execution_count": 151,
     "metadata": {},
     "output_type": "execute_result"
    }
   ],
   "source": [
    "clf_RF_results5"
   ]
  },
  {
   "cell_type": "code",
   "execution_count": 154,
   "id": "30424e28-7c72-4d53-a3c6-1158486395f2",
   "metadata": {},
   "outputs": [],
   "source": [
    "count = []\n",
    "for index, row in clf_RF_results5.iterrows(): \n",
    "    if row['PoliticalParty'] == row['Cummulative_Predict']:\n",
    "        count.append(1)\n",
    "    else:\n",
    "        count.append(0)"
   ]
  },
  {
   "cell_type": "code",
   "execution_count": 157,
   "id": "41ca3df4-7618-4585-ba6b-b94ca057e421",
   "metadata": {},
   "outputs": [
    {
     "data": {
      "text/plain": [
       "0.3383084577114428"
      ]
     },
     "execution_count": 157,
     "metadata": {},
     "output_type": "execute_result"
    }
   ],
   "source": [
    "sum(count) / 201"
   ]
  },
  {
   "cell_type": "markdown",
   "id": "d425248c-02d6-49b7-86f0-c8fb102ecddf",
   "metadata": {},
   "source": [
    "### Neural Network Model - Republican"
   ]
  },
  {
   "cell_type": "code",
   "execution_count": 227,
   "id": "c9f06bf0-7c1a-4ade-8936-38137124f2a6",
   "metadata": {},
   "outputs": [],
   "source": [
    "outcome = 'Republican'\n",
    "predictors = [c for c in tax_rep.columns if c != outcome]\n",
    "\n",
    "X = tax_rep[predictors]\n",
    "Y = tax_rep[outcome]\n",
    "\n",
    "\n",
    "X_train, X_test, y_train, y_test = train_test_split(X, Y, test_size=0.2, random_state=21)"
   ]
  },
  {
   "cell_type": "code",
   "execution_count": 228,
   "id": "44e5d266-6ed9-4153-8b18-9bc012df0daf",
   "metadata": {},
   "outputs": [
    {
     "data": {
      "text/html": [
       "<div>\n",
       "<style scoped>\n",
       "    .dataframe tbody tr th:only-of-type {\n",
       "        vertical-align: middle;\n",
       "    }\n",
       "\n",
       "    .dataframe tbody tr th {\n",
       "        vertical-align: top;\n",
       "    }\n",
       "\n",
       "    .dataframe thead th {\n",
       "        text-align: right;\n",
       "    }\n",
       "</style>\n",
       "<table border=\"1\" class=\"dataframe\">\n",
       "  <thead>\n",
       "    <tr style=\"text-align: right;\">\n",
       "      <th></th>\n",
       "      <th>HHI</th>\n",
       "      <th>HHDL</th>\n",
       "      <th>CollegGrads</th>\n",
       "      <th>AHHAge</th>\n",
       "      <th>Cars</th>\n",
       "      <th>Filed_2017</th>\n",
       "      <th>Filed_2016</th>\n",
       "      <th>Filed_2015</th>\n",
       "      <th>Married_0</th>\n",
       "      <th>Married_1</th>\n",
       "    </tr>\n",
       "  </thead>\n",
       "  <tbody>\n",
       "    <tr>\n",
       "      <th>0</th>\n",
       "      <td>49685</td>\n",
       "      <td>227187</td>\n",
       "      <td>0</td>\n",
       "      <td>105</td>\n",
       "      <td>0</td>\n",
       "      <td>1</td>\n",
       "      <td>1</td>\n",
       "      <td>1</td>\n",
       "      <td>1</td>\n",
       "      <td>0</td>\n",
       "    </tr>\n",
       "    <tr>\n",
       "      <th>1</th>\n",
       "      <td>64756</td>\n",
       "      <td>-507342</td>\n",
       "      <td>3</td>\n",
       "      <td>68</td>\n",
       "      <td>3</td>\n",
       "      <td>1</td>\n",
       "      <td>0</td>\n",
       "      <td>0</td>\n",
       "      <td>0</td>\n",
       "      <td>0</td>\n",
       "    </tr>\n",
       "    <tr>\n",
       "      <th>2</th>\n",
       "      <td>115435</td>\n",
       "      <td>521290</td>\n",
       "      <td>3</td>\n",
       "      <td>81</td>\n",
       "      <td>2</td>\n",
       "      <td>0</td>\n",
       "      <td>1</td>\n",
       "      <td>0</td>\n",
       "      <td>0</td>\n",
       "      <td>1</td>\n",
       "    </tr>\n",
       "    <tr>\n",
       "      <th>3</th>\n",
       "      <td>99454</td>\n",
       "      <td>251829</td>\n",
       "      <td>1</td>\n",
       "      <td>52</td>\n",
       "      <td>4</td>\n",
       "      <td>1</td>\n",
       "      <td>0</td>\n",
       "      <td>0</td>\n",
       "      <td>0</td>\n",
       "      <td>0</td>\n",
       "    </tr>\n",
       "    <tr>\n",
       "      <th>4</th>\n",
       "      <td>157274</td>\n",
       "      <td>-472337</td>\n",
       "      <td>1</td>\n",
       "      <td>28</td>\n",
       "      <td>1</td>\n",
       "      <td>1</td>\n",
       "      <td>0</td>\n",
       "      <td>1</td>\n",
       "      <td>1</td>\n",
       "      <td>0</td>\n",
       "    </tr>\n",
       "  </tbody>\n",
       "</table>\n",
       "</div>"
      ],
      "text/plain": [
       "      HHI    HHDL  CollegGrads  AHHAge  Cars Filed_2017 Filed_2016 Filed_2015  \\\n",
       "0   49685  227187            0     105     0          1          1          1   \n",
       "1   64756 -507342            3      68     3          1          0          0   \n",
       "2  115435  521290            3      81     2          0          1          0   \n",
       "3   99454  251829            1      52     4          1          0          0   \n",
       "4  157274 -472337            1      28     1          1          0          1   \n",
       "\n",
       "  Married_0 Married_1  \n",
       "0         1         0  \n",
       "1         0         0  \n",
       "2         0         1  \n",
       "3         0         0  \n",
       "4         1         0  "
      ]
     },
     "execution_count": 228,
     "metadata": {},
     "output_type": "execute_result"
    }
   ],
   "source": [
    "X.head()"
   ]
  },
  {
   "cell_type": "code",
   "execution_count": 229,
   "id": "5d6d8dfb-7d7b-44cd-9b10-01599479c648",
   "metadata": {},
   "outputs": [],
   "source": [
    "categorical_cols = X_train.select_dtypes(include=['category']).columns.tolist()\n",
    "numeric_cols = X_train.select_dtypes(include=['number']).columns.tolist()\n",
    "\n",
    "all_cols = X_train.columns.tolist()"
   ]
  },
  {
   "cell_type": "code",
   "execution_count": 234,
   "id": "e7a4274e-a835-4bd1-85e7-605f5dd3746c",
   "metadata": {},
   "outputs": [
    {
     "name": "stdout",
     "output_type": "stream",
     "text": [
      "Training score: 0.874\n",
      "Test score: 0.642\n"
     ]
    }
   ],
   "source": [
    "# Append random forest classifier to preprocessing pipeline.\n",
    "clf_rep_nn = Pipeline(steps=[('preprocessor', preprocessor),\n",
    "                      ('classifier', MLPClassifier(hidden_layer_sizes=(10, 10), activation = 'logistic', solver = 'lbfgs', max_iter = 10000, random_state = 0))])\n",
    "\n",
    "X_train, X_test, y_train, y_test = train_test_split(X, Y, test_size=0.2, random_state=21)\n",
    "\n",
    "clf_rep_nn.fit(X_train, y_train)\n",
    "\n",
    "print(f\"Training score: {clf_rep_nn.score(X_train, y_train):.3f}\")\n",
    "print(f\"Test score: {clf_rep_nn.score(X_test, y_test):.3f}\")"
   ]
  },
  {
   "cell_type": "code",
   "execution_count": null,
   "id": "82da5632-f63f-4c1d-8265-7611867de799",
   "metadata": {},
   "outputs": [],
   "source": []
  }
 ],
 "metadata": {
  "kernelspec": {
   "display_name": "Python 3",
   "language": "python",
   "name": "python3"
  },
  "language_info": {
   "codemirror_mode": {
    "name": "ipython",
    "version": 3
   },
   "file_extension": ".py",
   "mimetype": "text/x-python",
   "name": "python",
   "nbconvert_exporter": "python",
   "pygments_lexer": "ipython3",
   "version": "3.7.7"
  }
 },
 "nbformat": 4,
 "nbformat_minor": 5
}
