{
 "cells": [
  {
   "cell_type": "code",
   "execution_count": 8,
   "id": "f2529553-4277-45ad-a466-a38d0725cea4",
   "metadata": {},
   "outputs": [],
   "source": [
    "import numpy as np\n",
    "import pandas as pd\n",
    "import matplotlib.pyplot as plt\n",
    "import seaborn as sns\n",
    "from IPython.display import Image"
   ]
  },
  {
   "cell_type": "code",
   "execution_count": 9,
   "id": "e3d4068a-57b9-47c4-8ffc-7e95819e8f60",
   "metadata": {},
   "outputs": [],
   "source": [
    "%matplotlib inline"
   ]
  },
  {
   "cell_type": "code",
   "execution_count": 10,
   "id": "4900f9f8-290c-440d-a3a1-e910a8bcfa0b",
   "metadata": {},
   "outputs": [],
   "source": [
    "from sklearn.preprocessing import StandardScaler\n",
    "from sklearn.compose import ColumnTransformer\n",
    "from sklearn.pipeline import Pipeline\n",
    "from sklearn.model_selection import train_test_split\n",
    "from sklearn.metrics import confusion_matrix\n",
    "from sklearn.metrics import plot_confusion_matrix\n",
    "\n",
    "# explicitly require this experimental feature\n",
    "from sklearn.experimental import enable_hist_gradient_boosting  # noqa\n",
    "# now you can import normally from ensemble\n",
    "from sklearn.ensemble import HistGradientBoostingClassifier\n",
    "\n",
    "# Need the following to encode our target variable\n",
    "from sklearn.preprocessing import OrdinalEncoder"
   ]
  },
  {
   "cell_type": "code",
   "execution_count": 11,
   "id": "8f1533a6-2689-449c-b69f-9e66c31aee41",
   "metadata": {},
   "outputs": [],
   "source": [
    "tax_df = pd.read_csv('TaxInfo.csv')"
   ]
  },
  {
   "cell_type": "code",
   "execution_count": 12,
   "id": "c31c6908-f9c5-4d58-95bd-f5ef59ee0f52",
   "metadata": {},
   "outputs": [
    {
     "data": {
      "text/html": [
       "<div>\n",
       "<style scoped>\n",
       "    .dataframe tbody tr th:only-of-type {\n",
       "        vertical-align: middle;\n",
       "    }\n",
       "\n",
       "    .dataframe tbody tr th {\n",
       "        vertical-align: top;\n",
       "    }\n",
       "\n",
       "    .dataframe thead th {\n",
       "        text-align: right;\n",
       "    }\n",
       "</style>\n",
       "<table border=\"1\" class=\"dataframe\">\n",
       "  <thead>\n",
       "    <tr style=\"text-align: right;\">\n",
       "      <th></th>\n",
       "      <th>HHI</th>\n",
       "      <th>HHDL</th>\n",
       "      <th>Married</th>\n",
       "      <th>CollegGrads</th>\n",
       "      <th>AHHAge</th>\n",
       "      <th>Cars</th>\n",
       "      <th>Filed_2017</th>\n",
       "      <th>Filed_2016</th>\n",
       "      <th>Filed_2015</th>\n",
       "      <th>PoliticalParty</th>\n",
       "    </tr>\n",
       "  </thead>\n",
       "  <tbody>\n",
       "    <tr>\n",
       "      <th>0</th>\n",
       "      <td>49685</td>\n",
       "      <td>227187</td>\n",
       "      <td>0</td>\n",
       "      <td>0</td>\n",
       "      <td>105</td>\n",
       "      <td>0</td>\n",
       "      <td>1</td>\n",
       "      <td>1</td>\n",
       "      <td>1</td>\n",
       "      <td>Democrat</td>\n",
       "    </tr>\n",
       "    <tr>\n",
       "      <th>1</th>\n",
       "      <td>64756</td>\n",
       "      <td>-507342</td>\n",
       "      <td>2</td>\n",
       "      <td>3</td>\n",
       "      <td>68</td>\n",
       "      <td>3</td>\n",
       "      <td>1</td>\n",
       "      <td>0</td>\n",
       "      <td>0</td>\n",
       "      <td>Independent</td>\n",
       "    </tr>\n",
       "    <tr>\n",
       "      <th>2</th>\n",
       "      <td>115435</td>\n",
       "      <td>521290</td>\n",
       "      <td>1</td>\n",
       "      <td>3</td>\n",
       "      <td>81</td>\n",
       "      <td>2</td>\n",
       "      <td>0</td>\n",
       "      <td>1</td>\n",
       "      <td>0</td>\n",
       "      <td>Republican</td>\n",
       "    </tr>\n",
       "    <tr>\n",
       "      <th>3</th>\n",
       "      <td>99454</td>\n",
       "      <td>251829</td>\n",
       "      <td>2</td>\n",
       "      <td>1</td>\n",
       "      <td>52</td>\n",
       "      <td>4</td>\n",
       "      <td>1</td>\n",
       "      <td>0</td>\n",
       "      <td>0</td>\n",
       "      <td>Republican</td>\n",
       "    </tr>\n",
       "    <tr>\n",
       "      <th>4</th>\n",
       "      <td>157274</td>\n",
       "      <td>-472337</td>\n",
       "      <td>0</td>\n",
       "      <td>1</td>\n",
       "      <td>28</td>\n",
       "      <td>1</td>\n",
       "      <td>1</td>\n",
       "      <td>0</td>\n",
       "      <td>1</td>\n",
       "      <td>Independent</td>\n",
       "    </tr>\n",
       "  </tbody>\n",
       "</table>\n",
       "</div>"
      ],
      "text/plain": [
       "      HHI    HHDL  Married  CollegGrads  AHHAge  Cars  Filed_2017  Filed_2016  \\\n",
       "0   49685  227187        0            0     105     0           1           1   \n",
       "1   64756 -507342        2            3      68     3           1           0   \n",
       "2  115435  521290        1            3      81     2           0           1   \n",
       "3   99454  251829        2            1      52     4           1           0   \n",
       "4  157274 -472337        0            1      28     1           1           0   \n",
       "\n",
       "   Filed_2015 PoliticalParty  \n",
       "0           1       Democrat  \n",
       "1           0    Independent  \n",
       "2           0     Republican  \n",
       "3           0     Republican  \n",
       "4           1    Independent  "
      ]
     },
     "execution_count": 12,
     "metadata": {},
     "output_type": "execute_result"
    }
   ],
   "source": [
    "tax_df.head()"
   ]
  },
  {
   "cell_type": "code",
   "execution_count": 13,
   "id": "8a96e8e7-5c2e-4231-8c5a-9d1f90f64cc9",
   "metadata": {},
   "outputs": [],
   "source": [
    "\n",
    "tax_df.Married = tax_df.Married.astype('category')\n",
    "tax_df['Filed_2017'] = tax_df['Filed_2017'].astype('category')\n",
    "tax_df['Filed_2016'] = tax_df['Filed_2016'].astype('category')\n",
    "tax_df['Filed_2015'] = tax_df['Filed_2015'].astype('category')\n"
   ]
  },
  {
   "cell_type": "code",
   "execution_count": 14,
   "id": "5ea2b30c-0045-485c-b574-facf24b04433",
   "metadata": {
    "tags": []
   },
   "outputs": [],
   "source": [
    "outcome = 'PoliticalParty'\n",
    "predictors = [c for c in tax_df.columns if c != outcome]\n",
    "\n",
    "X = tax_df[predictors]\n",
    "Y = tax_df[outcome]\n",
    "train_X, valid_X, train_y, valid_y = train_test_split(X, Y, test_size=0.2, random_state=21)\n",
    "\n",
    "#Cat/Num Columns for tax_df\n",
    "categorical_cols = train_X.select_dtypes(include=['category']).columns.tolist()\n",
    "numeric_cols = train_X.select_dtypes(include=['number']).columns.tolist()"
   ]
  },
  {
   "cell_type": "code",
   "execution_count": 15,
   "id": "8ace8ac8-0df6-4aac-8f0d-ca1ec4f23eb2",
   "metadata": {},
   "outputs": [
    {
     "name": "stdout",
     "output_type": "stream",
     "text": [
      "hgbc training score: 1.000\n",
      "Training score: 1.000\n",
      "Test score: 0.418\n"
     ]
    }
   ],
   "source": [
    "numeric_transformer_hgbc = StandardScaler()\n",
    "categorical_transformer_hgbc = OrdinalEncoder(handle_unknown='use_encoded_value', unknown_value=np.nan)\n",
    "target_transformer_hgbc = OrdinalEncoder(handle_unknown='use_encoded_value', unknown_value=np.nan)\n",
    "\n",
    "preprocessor_hgbc = ColumnTransformer(\n",
    "    transformers=[\n",
    "        ('cat', categorical_transformer_hgbc, categorical_cols),\n",
    "        ('num', numeric_transformer_hgbc, numeric_cols)],\n",
    "        remainder='passthrough')\n",
    "\n",
    "# The preprocessor reorders the columns into blocks by type as defined by the transformers. So, now\n",
    "# the categorical cols are the first columns. We need their index numbers to use in the call to the\n",
    "# HistGradientBoostingClassifier() so it knows which cols to treat as categoricals (even though they\n",
    "# have been transformed into meaningless integers.)\n",
    "\n",
    "categorical_cols_idx = [_ for _ in range(len(categorical_cols))]\n",
    "\n",
    "# Append classifier to preprocessing pipeline.\n",
    "clf_hgbc = Pipeline(steps=[('preprocessor', preprocessor_hgbc),\n",
    "                      ('classifier', HistGradientBoostingClassifier(categorical_features=categorical_cols_idx))])\n",
    "\n",
    "# Fit model\n",
    "clf_hgbc.fit(train_X, train_y)\n",
    "print(f\"hgbc training score: {clf_hgbc.score(train_X, train_y):.3f}\")\n",
    "\n",
    "print(f\"Training score: {clf_hgbc.score(train_X, train_y):.3f}\")\n",
    "print(f\"Test score: {clf_hgbc.score(valid_X, valid_y):.3f}\")"
   ]
  },
  {
   "cell_type": "markdown",
   "id": "80fd76f4-fe51-455c-b375-fd75811f9eb6",
   "metadata": {},
   "source": [
    "Gradient booster does improve our model's performance against validation data, however, our model is still not a reliable predictor. "
   ]
  },
  {
   "cell_type": "code",
   "execution_count": 16,
   "id": "de0374b5-39d9-4c56-9c18-0a4114f581b8",
   "metadata": {},
   "outputs": [],
   "source": [
    "tax_df.PoliticalParty = tax_df.PoliticalParty.astype('category')"
   ]
  },
  {
   "cell_type": "code",
   "execution_count": 17,
   "id": "6afaf4fe-fd12-423a-8929-1354cc6b9918",
   "metadata": {},
   "outputs": [
    {
     "name": "stdout",
     "output_type": "stream",
     "text": [
      "<class 'pandas.core.frame.DataFrame'>\n",
      "RangeIndex: 1004 entries, 0 to 1003\n",
      "Data columns (total 10 columns):\n",
      " #   Column          Non-Null Count  Dtype   \n",
      "---  ------          --------------  -----   \n",
      " 0   HHI             1004 non-null   int64   \n",
      " 1   HHDL            1004 non-null   int64   \n",
      " 2   Married         1004 non-null   category\n",
      " 3   CollegGrads     1004 non-null   int64   \n",
      " 4   AHHAge          1004 non-null   int64   \n",
      " 5   Cars            1004 non-null   int64   \n",
      " 6   Filed_2017      1004 non-null   category\n",
      " 7   Filed_2016      1004 non-null   category\n",
      " 8   Filed_2015      1004 non-null   category\n",
      " 9   PoliticalParty  1004 non-null   category\n",
      "dtypes: category(5), int64(5)\n",
      "memory usage: 44.9 KB\n"
     ]
    }
   ],
   "source": [
    "tax_df.info()"
   ]
  },
  {
   "cell_type": "markdown",
   "id": "85bb2e7b-437b-496d-a8e2-c0ae86360778",
   "metadata": {},
   "source": [
    "#### Gradient Booster - Filed 2015"
   ]
  },
  {
   "cell_type": "code",
   "execution_count": 18,
   "id": "35282fbd-2b88-4e2c-9312-164073765e8a",
   "metadata": {},
   "outputs": [],
   "source": [
    "outcome = 'Filed_2015'\n",
    "predictors = [c for c in tax_df.columns if c != outcome]\n",
    "\n",
    "X = tax_df[predictors]\n",
    "Y = tax_df[outcome]\n",
    "train_X, valid_X, train_y, valid_y = train_test_split(X, Y, test_size=0.2, random_state=21)\n",
    "\n",
    "#Cat/Num Columns for tax_df\n",
    "categorical_cols = train_X.select_dtypes(include=['category']).columns.tolist()\n",
    "numeric_cols = train_X.select_dtypes(include=['number']).columns.tolist()"
   ]
  },
  {
   "cell_type": "code",
   "execution_count": 19,
   "id": "7a38ed7e-9d85-4dcd-94b5-b59ec0fddc39",
   "metadata": {},
   "outputs": [
    {
     "name": "stdout",
     "output_type": "stream",
     "text": [
      "Training score: 0.998\n",
      "Test score: 0.463\n"
     ]
    }
   ],
   "source": [
    "numeric_transformer_hgbc = StandardScaler()\n",
    "categorical_transformer_hgbc = OrdinalEncoder(handle_unknown='use_encoded_value', unknown_value=np.nan)\n",
    "target_transformer_hgbc = OrdinalEncoder(handle_unknown='use_encoded_value', unknown_value=np.nan)\n",
    "\n",
    "preprocessor_hgbc = ColumnTransformer(\n",
    "    transformers=[\n",
    "        ('cat', categorical_transformer_hgbc, categorical_cols),\n",
    "        ('num', numeric_transformer_hgbc, numeric_cols)],\n",
    "        remainder='passthrough')\n",
    "\n",
    "# The preprocessor reorders the columns into blocks by type as defined by the transformers. So, now\n",
    "# the categorical cols are the first columns. We need their index numbers to use in the call to the\n",
    "# HistGradientBoostingClassifier() so it knows which cols to treat as categoricals (even though they\n",
    "# have been transformed into meaningless integers.)\n",
    "\n",
    "categorical_cols_idx = [_ for _ in range(len(categorical_cols))]\n",
    "\n",
    "# Append classifier to preprocessing pipeline.\n",
    "clf_hgbc = Pipeline(steps=[('preprocessor', preprocessor_hgbc),\n",
    "                      ('classifier', HistGradientBoostingClassifier(categorical_features=categorical_cols_idx))])\n",
    "\n",
    "# Fit model\n",
    "clf_hgbc.fit(train_X, train_y)\n",
    "\n",
    "print(f\"Training score: {clf_hgbc.score(train_X, train_y):.3f}\")\n",
    "print(f\"Test score: {clf_hgbc.score(valid_X, valid_y):.3f}\")"
   ]
  },
  {
   "cell_type": "markdown",
   "id": "26e0fb22-fe9f-44d0-a2ca-6ff168ce4b5e",
   "metadata": {},
   "source": [
    "#### Gradient Booster - Filed 2016"
   ]
  },
  {
   "cell_type": "code",
   "execution_count": 20,
   "id": "e5d9394f-a9bd-44fb-afe1-686ff645c4dc",
   "metadata": {},
   "outputs": [],
   "source": [
    "outcome = 'Filed_2016'\n",
    "predictors = [c for c in tax_df.columns if c != outcome]\n",
    "\n",
    "X = tax_df[predictors]\n",
    "Y = tax_df[outcome]\n",
    "train_X, valid_X, train_y, valid_y = train_test_split(X, Y, test_size=0.2, random_state=21)\n",
    "\n",
    "#Cat/Num Columns for tax_df\n",
    "categorical_cols = train_X.select_dtypes(include=['category']).columns.tolist()\n",
    "numeric_cols = train_X.select_dtypes(include=['number']).columns.tolist()"
   ]
  },
  {
   "cell_type": "code",
   "execution_count": 21,
   "id": "93903d6f-5df7-466c-90c2-ae52def280b9",
   "metadata": {},
   "outputs": [
    {
     "name": "stdout",
     "output_type": "stream",
     "text": [
      "Training score: 0.998\n",
      "Test score: 0.502\n"
     ]
    }
   ],
   "source": [
    "numeric_transformer_hgbc = StandardScaler()\n",
    "categorical_transformer_hgbc = OrdinalEncoder(handle_unknown='use_encoded_value', unknown_value=np.nan)\n",
    "target_transformer_hgbc = OrdinalEncoder(handle_unknown='use_encoded_value', unknown_value=np.nan)\n",
    "\n",
    "preprocessor_hgbc = ColumnTransformer(\n",
    "    transformers=[\n",
    "        ('cat', categorical_transformer_hgbc, categorical_cols),\n",
    "        ('num', numeric_transformer_hgbc, numeric_cols)],\n",
    "        remainder='passthrough')\n",
    "\n",
    "# The preprocessor reorders the columns into blocks by type as defined by the transformers. So, now\n",
    "# the categorical cols are the first columns. We need their index numbers to use in the call to the\n",
    "# HistGradientBoostingClassifier() so it knows which cols to treat as categoricals (even though they\n",
    "# have been transformed into meaningless integers.)\n",
    "\n",
    "categorical_cols_idx = [_ for _ in range(len(categorical_cols))]\n",
    "\n",
    "# Append classifier to preprocessing pipeline.\n",
    "clf_hgbc1 = Pipeline(steps=[('preprocessor', preprocessor_hgbc),\n",
    "                      ('classifier', HistGradientBoostingClassifier(categorical_features=categorical_cols_idx))])\n",
    "\n",
    "# Fit model\n",
    "clf_hgbc1.fit(train_X, train_y)\n",
    "\n",
    "print(f\"Training score: {clf_hgbc1.score(train_X, train_y):.3f}\")\n",
    "print(f\"Test score: {clf_hgbc1.score(valid_X, valid_y):.3f}\")"
   ]
  },
  {
   "cell_type": "markdown",
   "id": "5fae80d2-2052-4946-9652-938d6feb88e4",
   "metadata": {},
   "source": [
    "#### Gradient Booster - Filed 2017"
   ]
  },
  {
   "cell_type": "code",
   "execution_count": 22,
   "id": "6147267f-5d96-4495-ac87-584964e9548f",
   "metadata": {
    "tags": []
   },
   "outputs": [],
   "source": [
    "outcome = 'Filed_2017'\n",
    "predictors = [c for c in tax_df.columns if c != outcome]\n",
    "\n",
    "X = tax_df[predictors]\n",
    "Y = tax_df[outcome]\n",
    "train_X, valid_X, train_y, valid_y = train_test_split(X, Y, test_size=0.2, random_state=21)\n",
    "\n",
    "#Cat/Num Columns for tax_df\n",
    "categorical_cols = train_X.select_dtypes(include=['category']).columns.tolist()\n",
    "numeric_cols = train_X.select_dtypes(include=['number']).columns.tolist()"
   ]
  },
  {
   "cell_type": "code",
   "execution_count": 23,
   "id": "54fdd90b-1392-4656-ba17-b0b124b2afc4",
   "metadata": {},
   "outputs": [
    {
     "name": "stdout",
     "output_type": "stream",
     "text": [
      "Training score: 0.995\n",
      "Test score: 0.522\n"
     ]
    }
   ],
   "source": [
    "numeric_transformer_hgbc = StandardScaler()\n",
    "categorical_transformer_hgbc = OrdinalEncoder(handle_unknown='use_encoded_value', unknown_value=np.nan)\n",
    "target_transformer_hgbc = OrdinalEncoder(handle_unknown='use_encoded_value', unknown_value=np.nan)\n",
    "\n",
    "preprocessor_hgbc = ColumnTransformer(\n",
    "    transformers=[\n",
    "        ('cat', categorical_transformer_hgbc, categorical_cols),\n",
    "        ('num', numeric_transformer_hgbc, numeric_cols)],\n",
    "        remainder='passthrough')\n",
    "\n",
    "# The preprocessor reorders the columns into blocks by type as defined by the transformers. So, now\n",
    "# the categorical cols are the first columns. We need their index numbers to use in the call to the\n",
    "# HistGradientBoostingClassifier() so it knows which cols to treat as categoricals (even though they\n",
    "# have been transformed into meaningless integers.)\n",
    "\n",
    "categorical_cols_idx = [_ for _ in range(len(categorical_cols))]\n",
    "\n",
    "# Append classifier to preprocessing pipeline.\n",
    "clf_hgbc2 = Pipeline(steps=[('preprocessor', preprocessor_hgbc),\n",
    "                      ('classifier', HistGradientBoostingClassifier(categorical_features=categorical_cols_idx))])\n",
    "\n",
    "# Fit model\n",
    "clf_hgbc2.fit(train_X, train_y)\n",
    "\n",
    "print(f\"Training score: {clf_hgbc2.score(train_X, train_y):.3f}\")\n",
    "print(f\"Test score: {clf_hgbc2.score(valid_X, valid_y):.3f}\")"
   ]
  },
  {
   "cell_type": "markdown",
   "id": "c9d2b3f3-76bf-4f8f-b4e0-35ab1a057015",
   "metadata": {},
   "source": [
    "The use of Gradient Boosting Classifiers to predict whether an individual filed taxes in a given year gives us improved performance when compared with out ability to predict political party. This could be because the output variable consists of two levels as opposed to three output variables for political party. "
   ]
  }
 ],
 "metadata": {
  "kernelspec": {
   "display_name": "Python 3",
   "language": "python",
   "name": "python3"
  },
  "language_info": {
   "codemirror_mode": {
    "name": "ipython",
    "version": 3
   },
   "file_extension": ".py",
   "mimetype": "text/x-python",
   "name": "python",
   "nbconvert_exporter": "python",
   "pygments_lexer": "ipython3",
   "version": "3.7.7"
  }
 },
 "nbformat": 4,
 "nbformat_minor": 5
}
